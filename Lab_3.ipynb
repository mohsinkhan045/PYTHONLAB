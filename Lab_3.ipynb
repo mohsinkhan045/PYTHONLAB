{
  "nbformat": 4,
  "nbformat_minor": 0,
  "metadata": {
    "colab": {
      "provenance": []
    },
    "kernelspec": {
      "name": "python3",
      "display_name": "Python 3"
    },
    "language_info": {
      "name": "python"
    }
  },
  "cells": [
    {
      "cell_type": "markdown",
      "source": [
        "**Activity 1:**Use loops to accept 5 values from user and store them in a list. Display all the values (objects) of the list."
      ],
      "metadata": {
        "id": "wRGaR0WguP2c"
      }
    },
    {
      "cell_type": "code",
      "source": [
        "mylist=[]\n",
        "for i in range(5):\n",
        "  val=input(\"Enter a value  \")\n",
        "  mylist.append(val)\n",
        "print(\"The given list is\")\n",
        "print(mylist)"
      ],
      "metadata": {
        "colab": {
          "base_uri": "https://localhost:8080/"
        },
        "id": "OS8i39TUulud",
        "outputId": "e6a053f2-043b-4cc2-8352-80d9b1b7b7b1"
      },
      "execution_count": null,
      "outputs": [
        {
          "output_type": "stream",
          "name": "stdout",
          "text": [
            "Enter a value  1\n",
            "Enter a value  Mohsin\n",
            "Enter a value  Saleem\n",
            "Enter a value  2000\n",
            "Enter a value  Vehari\n",
            "The given list is\n",
            "['1', 'Mohsin', 'Saleem', '2000', 'Vehari']\n"
          ]
        }
      ]
    },
    {
      "cell_type": "markdown",
      "source": [
        "**Activity 2:**\n",
        "Repeat the above code by accepting 5 integer values from user. Store these values in a list and display the sum of given values."
      ],
      "metadata": {
        "id": "qjPGKENHyTPT"
      }
    },
    {
      "cell_type": "code",
      "source": [
        "mylist=[]\n",
        "for i in range(5):\n",
        "  val=input(\"Enter a value  \")\n",
        "  n=int(val)\n",
        "  mylist.append(n)\n",
        "sum=0\n",
        "for n in mylist:\n",
        "  sum=sum+n\n",
        "print(\"The sum of given value is\",sum)"
      ],
      "metadata": {
        "colab": {
          "base_uri": "https://localhost:8080/"
        },
        "id": "3TC1YIDoycP1",
        "outputId": "62f9c5f6-78f6-4403-eeea-3681cd1a7393"
      },
      "execution_count": null,
      "outputs": [
        {
          "output_type": "stream",
          "name": "stdout",
          "text": [
            "Enter a value  2\n",
            "Enter a value  4\n",
            "Enter a value  6\n",
            "Enter a value  7\n",
            "Enter a value  9\n",
            "The sum of given value is 28\n"
          ]
        }
      ]
    },
    {
      "cell_type": "markdown",
      "source": [
        "**Activity 3:**\n",
        "Accept 5 integer values from user. Store these values in a list and display the list in ascending order."
      ],
      "metadata": {
        "id": "tzWHbhgm1hao"
      }
    },
    {
      "cell_type": "code",
      "source": [
        "mylist=[]\n",
        "for i in range(5):\n",
        "  val=input(\"Enter a value  \")\n",
        "  n=int(val)\n",
        "  mylist.append(n)\n",
        "mylist.sort()\n",
        "a=max(mylist)\n",
        "b=min(mylist)\n",
        "print(mylist)\n",
        "print(\"Maximum value is\",a)\n",
        "print(\"Minimum value is\",b)\n"
      ],
      "metadata": {
        "colab": {
          "base_uri": "https://localhost:8080/"
        },
        "id": "A-XE4Rq31p3S",
        "outputId": "8b0e9f39-54b3-4fa9-b5f5-a548d8908519"
      },
      "execution_count": null,
      "outputs": [
        {
          "output_type": "stream",
          "name": "stdout",
          "text": [
            "Enter a value  2\n",
            "Enter a value  5\n",
            "Enter a value  3\n",
            "Enter a value  8\n",
            "Enter a value  1\n",
            "[1, 2, 3, 5, 8]\n",
            "Maximum value is 8\n",
            "Minimum value is 1\n"
          ]
        }
      ]
    },
    {
      "cell_type": "markdown",
      "source": [
        "**Activity 4:**\n",
        "Accept two lists from user and display their join."
      ],
      "metadata": {
        "id": "ZPUS4zyz8Ykv"
      }
    },
    {
      "cell_type": "code",
      "source": [
        "mylist1=[]\n",
        "print(\" enter objecs of first list \")\n",
        "for i in range (5):\n",
        "  val=input(\"enter a value \")\n",
        "  n=int(val)\n",
        "  mylist1.append(n)\n",
        "mylist2=[]\n",
        "print(\" enter objecs of second list \")\n",
        "for i in range (5):\n",
        "  val=input(\"enter a value \")\n",
        "  n=int(val)\n",
        "  mylist2.append(n)\n",
        "list3=mylist1+mylist\n",
        "print(list3)\n"
      ],
      "metadata": {
        "colab": {
          "base_uri": "https://localhost:8080/"
        },
        "id": "mCPDHX-R8iA2",
        "outputId": "18ac3522-6c52-4ae6-8e05-0cb093a72f72"
      },
      "execution_count": null,
      "outputs": [
        {
          "output_type": "stream",
          "name": "stdout",
          "text": [
            " enter objecs of first list \n",
            "enter a value 1\n",
            "enter a value 4\n",
            "enter a value 6\n",
            "enter a value 8\n",
            "enter a value 9\n",
            " enter objecs of second list \n",
            "enter a value 2\n",
            "enter a value 4\n",
            "enter a value 6\n",
            "enter a value 8\n",
            "enter a value 1\n",
            "[1, 4, 6, 8, 9, 1, 2, 3, 5, 8]\n"
          ]
        }
      ]
    },
    {
      "cell_type": "markdown",
      "source": [
        "**Activity 5:**\n",
        "Write a Python code to accept a list from user and find a required element in it."
      ],
      "metadata": {
        "id": "G-_00hUd_Uk-"
      }
    },
    {
      "cell_type": "code",
      "source": [
        "mylist2=[]\n",
        "print(\" enter objecs of first list \")\n",
        "for i in range (5):\n",
        "  val=input(\"enter a value \")\n",
        "  n=int(val)\n",
        "  mylist.append(n)\n",
        "print(mylist)\n",
        "s=input(\"Enter a value to find in the list  \")\n",
        "n=int(s)\n",
        "found=n in mylist\n",
        "if found==True:\n",
        "  print(\"found\")\n",
        "else:\n",
        " print(\"Not found\")"
      ],
      "metadata": {
        "colab": {
          "base_uri": "https://localhost:8080/"
        },
        "id": "SXRznkQ__i6q",
        "outputId": "c52168d6-568a-453c-f8cb-7000c29cd450"
      },
      "execution_count": null,
      "outputs": [
        {
          "output_type": "stream",
          "name": "stdout",
          "text": [
            " enter objecs of first list \n",
            "enter a value 1\n",
            "enter a value 2\n",
            "enter a value 3\n",
            "enter a value 4\n",
            "enter a value 5\n",
            "[1, 2, 3, 4, 5]\n",
            "Enter a value to find in the list  3\n",
            "found\n"
          ]
        }
      ]
    },
    {
      "cell_type": "markdown",
      "source": [
        "**Activity 6:**\n",
        "Write a function called say_hello that takes in a person’s name as a parameter. The function should print a greeting message with the person’s name. Then call the function three times with three different names."
      ],
      "metadata": {
        "id": "PRpmEAmIEY52"
      }
    },
    {
      "cell_type": "code",
      "source": [
        "def say_helo(name):\n",
        "  print(\"Hello\",name)\n",
        "for i in range(3):\n",
        "  s=input(\"Enter name :\")\n",
        "  say_helo(s)"
      ],
      "metadata": {
        "colab": {
          "base_uri": "https://localhost:8080/"
        },
        "id": "GWBOvOl-EenD",
        "outputId": "4d54d06b-b474-4672-c6ca-a3ea3b63e9a7"
      },
      "execution_count": null,
      "outputs": [
        {
          "output_type": "stream",
          "name": "stdout",
          "text": [
            "Enter name :Mohsin\n",
            "Hello Mohsin\n",
            "Enter name :Saleem\n",
            "Hello Saleem\n",
            "Enter name :Mohsin\n",
            "Hello Mohsin\n"
          ]
        }
      ]
    },
    {
      "cell_type": "markdown",
      "source": [
        "**Activity 7:**\n",
        "A palindrome is a string which is same read forward or backwards. For example: “dad” is the same in forward or reverse direction. Another example is “aibohphobia” which literally means, an irritable fear of palindromes"
      ],
      "metadata": {
        "id": "urwqZat9H3kl"
      }
    },
    {
      "cell_type": "code",
      "source": [
        "def isPalindrome(word):\n",
        "    temp=word[::-1]\n",
        "    if temp.capitalize()==word.capitalize():\n",
        "      return True\n",
        "    else:\n",
        "      return False\n",
        "print(isPalindrome(\"deed\"))"
      ],
      "metadata": {
        "colab": {
          "base_uri": "https://localhost:8080/"
        },
        "id": "76uWfpFFNLJW",
        "outputId": "aa95365c-6879-4034-9b42-30bf55f289d6"
      },
      "execution_count": null,
      "outputs": [
        {
          "output_type": "stream",
          "name": "stdout",
          "text": [
            "True\n"
          ]
        }
      ]
    }
  ]
}