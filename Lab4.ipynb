{
  "nbformat": 4,
  "nbformat_minor": 0,
  "metadata": {
    "colab": {
      "provenance": []
    },
    "kernelspec": {
      "name": "python3",
      "display_name": "Python 3"
    },
    "language_info": {
      "name": "python"
    }
  },
  "cells": [
    {
      "cell_type": "markdown",
      "source": [
        "**Activity#8**\n",
        "Imagine two matrices given in the form of 2D lists as under;\n",
        "\n",
        "a = [[1, 0, 0], [0, 1, 0], [0, 0, 1] ]\n",
        "b = [[1, 2, 3], [4, 5, 6], [7, 8, 9] ]\n",
        "\n",
        "Write a python code that finds another matrix/2D list that is a product of and b, i.e.,"
      ],
      "metadata": {
        "id": "ZoX213zEIN0t"
      }
    },
    {
      "cell_type": "code",
      "execution_count": null,
      "metadata": {
        "colab": {
          "base_uri": "https://localhost:8080/"
        },
        "id": "mu2_iBhLIDz0",
        "outputId": "28a28183-e2e7-4eee-ad57-e40593ad5edb"
      },
      "outputs": [
        {
          "output_type": "stream",
          "name": "stdout",
          "text": [
            "[[1, 1, 1], [5, 5, 5], [9, 9, 9]]\n"
          ]
        }
      ],
      "source": [
        "a = [[1, 0, 0], [0, 1, 0], [0, 0, 1] ]\n",
        "b = [[1, 2, 3], [4, 5, 6], [7, 8, 9] ]\n",
        "c= []\n",
        "for indrow in range(3):\n",
        "  c.append ([])\n",
        "  for indcol in range(3):\n",
        "    c[indrow].append(0)\n",
        "    for indaux in range(3):\n",
        "      c[indrow][indcol] += a[indrow][indaux] * b[indrow][indaux]\n",
        "print(c)"
      ]
    },
    {
      "cell_type": "markdown",
      "source": [
        "**Activity:9**"
      ],
      "metadata": {
        "id": "ZEsZMHKDB19g"
      }
    },
    {
      "cell_type": "code",
      "source": [
        "import math\n",
        "\n",
        "def polygon_perimeter(coords):\n",
        "    # Find the number of vertices\n",
        "    n = len(coords)\n",
        "    # Initialize the perimeter variable\n",
        "    perimeter = 0\n",
        "    # Loop through all vertices\n",
        "    for i in range(n):\n",
        "        # Calculate the distance between this vertex and the next vertex\n",
        "        x1, y1 = coords[i]\n",
        "        x2, y2 = coords[(i+1) % n]\n",
        "        side_length = math.sqrt((x2-x1)**2 + (y2-y1)**2)\n",
        "        # Add the length of the side to the perimeter\n",
        "        perimeter += side_length\n",
        "    return perimeter"
      ],
      "metadata": {
        "id": "z8fEtmhBB9fm"
      },
      "execution_count": 5,
      "outputs": []
    }
  ]
}