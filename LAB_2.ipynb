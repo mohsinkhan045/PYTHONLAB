{
  "nbformat": 4,
  "nbformat_minor": 0,
  "metadata": {
    "colab": {
      "provenance": []
    },
    "kernelspec": {
      "name": "python3",
      "display_name": "Python 3"
    },
    "language_info": {
      "name": "python"
    }
  },
  "cells": [
    {
      "cell_type": "markdown",
      "source": [
        "**MUHAMMAD MOHSIN SALEEM**\n",
        "**(FA20-BSE-045)**\n",
        "           **Activity 1**\n",
        "Display numbers on screen using python"
      ],
      "metadata": {
        "id": "N_GoJgG2hDqi"
      }
    },
    {
      "cell_type": "code",
      "execution_count": null,
      "metadata": {
        "colab": {
          "base_uri": "https://localhost:8080/"
        },
        "id": "Jglsy2tKgShX",
        "outputId": "20a24534-7195-4e62-cc3a-82787ef8b0ee"
      },
      "outputs": [
        {
          "output_type": "stream",
          "name": "stdout",
          "text": [
            "Hello world\n",
            "24\n",
            "4.2\n",
            "234\n",
            "49.9\n"
          ]
        }
      ],
      "source": [
        "print(\"Hello world\")\n",
        "print(24)\n",
        "print(4.2)\n",
        "print(234)\n",
        "print(49.90)"
      ]
    },
    {
      "cell_type": "markdown",
      "source": [
        "**Activity 2**\n",
        "Display String on Screen\n"
      ],
      "metadata": {
        "id": "aUTvgayljNJQ"
      }
    },
    {
      "cell_type": "code",
      "source": [
        "print('Hello')\n",
        "print('Quote me on screen !')\n",
        "print(\"what's your name?\")\n",
        "print(\"'you can use triple quote for multilines string'\")"
      ],
      "metadata": {
        "colab": {
          "base_uri": "https://localhost:8080/"
        },
        "id": "nAZC8sQ8jjOg",
        "outputId": "8737cdab-52f8-4b3b-d55d-be7efd118a28"
      },
      "execution_count": null,
      "outputs": [
        {
          "output_type": "stream",
          "name": "stdout",
          "text": [
            "Hello\n",
            "Quote me on screen !\n",
            "what's your name?\n",
            "'you can use triple quote for multilines string'\n"
          ]
        }
      ]
    },
    {
      "cell_type": "markdown",
      "source": [
        "**Activity 3**\n",
        "Use Python as a Calculator"
      ],
      "metadata": {
        "id": "ry9dEI8HlQZB"
      }
    },
    {
      "cell_type": "code",
      "source": [
        "print(2+2)\n",
        "print(50-4)\n",
        "print(23.5-2.0)\n",
        "print(23-18.5)\n",
        "print(5*4)\n",
        "print(2.5*10)\n",
        "print(2.5*2.5)\n",
        "print(28/4)\n",
        "print(26/4)\n",
        "print(23.4/3.1)\n",
        "\n"
      ],
      "metadata": {
        "colab": {
          "base_uri": "https://localhost:8080/"
        },
        "id": "PQR1A5yPld0x",
        "outputId": "accfa1e1-991e-4864-87ae-f764e46e28d5"
      },
      "execution_count": null,
      "outputs": [
        {
          "output_type": "stream",
          "name": "stdout",
          "text": [
            "4\n",
            "46\n",
            "21.5\n",
            "4.5\n",
            "20\n",
            "25.0\n",
            "6.25\n",
            "7.0\n",
            "6.5\n",
            "7.548387096774193\n"
          ]
        }
      ]
    },
    {
      "cell_type": "markdown",
      "source": [
        "**Activity 4**\n",
        "Get integer Answer from Division operation\n"
      ],
      "metadata": {
        "id": "1sL_dB4Hm-tu"
      }
    },
    {
      "cell_type": "code",
      "source": [
        "print(28//4)\n",
        "print(26//4)\n",
        "print(type(int(26/4)))\n",
        "print(type(int(28/4)))\n",
        "print(type(int(26%4)))\n",
        "print(type(int(28/4)))\n",
        "print(28%4)\n",
        "print(26%4)"
      ],
      "metadata": {
        "colab": {
          "base_uri": "https://localhost:8080/"
        },
        "id": "GhKAdOSfnMkO",
        "outputId": "87933cd9-c5cc-4fd7-c812-8cdd2a446275"
      },
      "execution_count": null,
      "outputs": [
        {
          "output_type": "stream",
          "name": "stdout",
          "text": [
            "7\n",
            "6\n",
            "<class 'int'>\n",
            "<class 'int'>\n",
            "<class 'int'>\n",
            "<class 'int'>\n",
            "0\n",
            "2\n"
          ]
        }
      ]
    },
    {
      "cell_type": "markdown",
      "source": [
        "**Activity 5**\n",
        "Calculate power"
      ],
      "metadata": {
        "id": "cRLjfv6ToJ0k"
      }
    },
    {
      "cell_type": "code",
      "source": [
        "print(4**3)\n",
        "print(4**10)\n",
        "print(4**29)\n",
        "print(4**150)\n",
        "print(4**1000)"
      ],
      "metadata": {
        "colab": {
          "base_uri": "https://localhost:8080/"
        },
        "id": "D8_WzrE2oea1",
        "outputId": "e0d96ce9-a164-4bbb-a856-984f3dd392ca"
      },
      "execution_count": null,
      "outputs": [
        {
          "output_type": "stream",
          "name": "stdout",
          "text": [
            "64\n",
            "1048576\n",
            "288230376151711744\n",
            "2037035976334486086268445688409378161051468393665936250636140449354381299763336706183397376\n",
            "114813069527425452423283320117768198402231770208869520047764273682576626139237031385665948631650626991844596463898746277344711896086305533142593135616665318539129989145312280000688779148240044871428926990063486244781615463646388363947317026040466353970904996558162398808944629605623311649536164221970332681344168908984458505602379484807914058900934776500429002716706625830522008132236281291761267883317206598995396418127021779858404042159853183251540889433902091920554957783589672039160081957216630582755380425583726015528348786419432054508915275783882625175435528800822842770817965453762184851149029376\n"
          ]
        }
      ]
    },
    {
      "cell_type": "markdown",
      "source": [
        "**Activity 6**\n",
        "Write Math Expression and Calculate the Answer"
      ],
      "metadata": {
        "id": "a7U9FL6ApJ-z"
      }
    },
    {
      "cell_type": "code",
      "source": [
        "print(2+3*6)\n",
        "print((2+3)*6)\n",
        "print(48565878 * 578453)\n",
        "print(2+ 2)\n",
        "#print((5 – 1) * ((7 + 1) / (3 – 1)))\n",
        "print(5 +7)\n",
        "print(42 + 5 ** 2)\n",
        "\n",
        "\n"
      ],
      "metadata": {
        "colab": {
          "base_uri": "https://localhost:8080/"
        },
        "id": "iFS3FCUIpZSx",
        "outputId": "046ea2ed-6b09-4681-ebda-7cb73836803b"
      },
      "execution_count": null,
      "outputs": [
        {
          "output_type": "stream",
          "name": "stdout",
          "text": [
            "20\n",
            "30\n",
            "28093077826734\n",
            "4\n",
            "12\n",
            "67\n"
          ]
        }
      ]
    },
    {
      "cell_type": "markdown",
      "source": [
        "**Activity 7**\n",
        "Calculate Number and text"
      ],
      "metadata": {
        "id": "RXOWEx_rqo-P"
      }
    },
    {
      "cell_type": "code",
      "source": [
        "x=\"nancy\"\n",
        "print(x)\n",
        "s=\"My lucky number is %d,what is yours?\"%7\n",
        "print(s)\n",
        "s=\"My lucky number is\"+str(7) +\",what is yours?\"\n",
        "print(s)"
      ],
      "metadata": {
        "colab": {
          "base_uri": "https://localhost:8080/"
        },
        "id": "hhJViVoXqxLK",
        "outputId": "c828b9b7-f1d8-4367-ac35-ed3477374027"
      },
      "execution_count": null,
      "outputs": [
        {
          "output_type": "stream",
          "name": "stdout",
          "text": [
            "nancy\n",
            "My lucky number is 7,what is your?\n",
            "My lucky number is7,what is your?\n"
          ]
        }
      ]
    },
    {
      "cell_type": "markdown",
      "source": [
        "**Activity 8**\n",
        "Take input from the keyboard and use it in your program."
      ],
      "metadata": {
        "id": "MdN22x_Tro1V"
      }
    },
    {
      "cell_type": "code",
      "source": [
        "name=input('what is your name?')\n",
        "print(\"My name is  \" +name)\n",
        "job=input('what is your job?')\n",
        "print('My job is  ' +job)\n",
        "num=input('what is your lucky number?')\n",
        "print('My lucky num is  ' +num)"
      ],
      "metadata": {
        "colab": {
          "base_uri": "https://localhost:8080/"
        },
        "id": "eLRxW5IArun8",
        "outputId": "1e309d7f-b282-4895-be86-86d725c582f7"
      },
      "execution_count": null,
      "outputs": [
        {
          "output_type": "stream",
          "name": "stdout",
          "text": [
            "what is your name?MOHSIN\n",
            "My name is  MOHSIN\n",
            "what is your job?Software Engineer\n",
            "My job is  Software Engineer\n",
            "what is your lucky number?11\n",
            "My lucky num is  11\n"
          ]
        }
      ]
    },
    {
      "cell_type": "markdown",
      "source": [
        "**Activity 9**\n",
        "Let us take an integer from user as input and check whether the given value is even or not."
      ],
      "metadata": {
        "id": "oVneh1KPuCSi"
      }
    },
    {
      "cell_type": "code",
      "source": [
        "n=input(\"Enter any Number\")\n",
        "if int(n)%2==0:\n",
        "  print(\"The Number is Even\")"
      ],
      "metadata": {
        "id": "ZQ2Qc0Z1vFrg",
        "colab": {
          "base_uri": "https://localhost:8080/"
        },
        "outputId": "f148b8c7-56f7-4a79-dcb1-4f90ab561de0"
      },
      "execution_count": null,
      "outputs": [
        {
          "output_type": "stream",
          "name": "stdout",
          "text": [
            "Enter any Number4\n",
            "The Number is Even\n"
          ]
        }
      ]
    },
    {
      "cell_type": "markdown",
      "source": [
        "**Activity 10** take an integer from user as input and check whether the given value is even or odd"
      ],
      "metadata": {
        "id": "eUD68ZGbFCBw"
      }
    },
    {
      "cell_type": "code",
      "source": [
        "n=input(\"Enter any number\")\n",
        "if int(n)%2==0:\n",
        "  print(\"The Given Number is Even\")\n",
        "else:\n",
        " print(\"The Number is Odd\")"
      ],
      "metadata": {
        "colab": {
          "base_uri": "https://localhost:8080/"
        },
        "id": "nBm0mrPYFZR_",
        "outputId": "6c4ba22c-ba24-46ce-f485-1b8c4d2e94ef"
      },
      "execution_count": null,
      "outputs": [
        {
          "output_type": "stream",
          "name": "stdout",
          "text": [
            "Enter any number5\n",
            "The Number is Odd\n"
          ]
        }
      ]
    },
    {
      "cell_type": "markdown",
      "source": [
        "**Activity 11** Calculate the sum of all the values between 0-10 using while loop"
      ],
      "metadata": {
        "id": "oMFDKLtrFrkK"
      }
    },
    {
      "cell_type": "code",
      "source": [
        "sum=0\n",
        "i=1\n",
        "while i<=10:\n",
        " sum=sum+i\n",
        " i=i+1\n",
        "print(\"Sum is\",sum)"
      ],
      "metadata": {
        "colab": {
          "base_uri": "https://localhost:8080/"
        },
        "id": "CgIwi8-GFx0V",
        "outputId": "340e3eeb-ffe1-43f9-b855-a580ada7cf13"
      },
      "execution_count": null,
      "outputs": [
        {
          "output_type": "stream",
          "name": "stdout",
          "text": [
            "Sum is 55\n"
          ]
        }
      ]
    },
    {
      "cell_type": "markdown",
      "source": [
        "**Activity 12** Accept 5 integer values from user and display their sum. Draw flowchart before coding in python.\n"
      ],
      "metadata": {
        "id": "OxO3UbChGT7u"
      }
    },
    {
      "cell_type": "code",
      "source": [
        "sum=0\n",
        "i=0\n",
        "while i<=4:\n",
        " s=input(\"Enter 5 input\")\n",
        " n=int(s)\n",
        " sum=sum+n\n",
        " i=i+1\n",
        "print(\"Sum of 5 number is\",sum)"
      ],
      "metadata": {
        "colab": {
          "base_uri": "https://localhost:8080/"
        },
        "id": "_w9mrtL8Gah_",
        "outputId": "c3087663-0134-4205-df8b-826597b6cffb"
      },
      "execution_count": null,
      "outputs": [
        {
          "output_type": "stream",
          "name": "stdout",
          "text": [
            "Enter 5 input4\n",
            "Enter 5 input5\n",
            "Enter 5 input2\n",
            "Enter 5 input7\n",
            "Enter 5 input1\n",
            "Sum of 5 number is 19\n"
          ]
        }
      ]
    },
    {
      "cell_type": "markdown",
      "source": [
        "**Activity 13** Write a Python code to keep accepting integer values from user until 0 is entered. Display sum of the given values"
      ],
      "metadata": {
        "id": "l6DJZ2coGsgv"
      }
    },
    {
      "cell_type": "code",
      "source": [
        "sum = 0\n",
        "while True:\n",
        " num = int(input(\"Enter an integer \"))\n",
        " if num == 0:\n",
        "  break\n",
        " sum+=num\n",
        "print(\"sum of the entered values is:\", sum)"
      ],
      "metadata": {
        "colab": {
          "base_uri": "https://localhost:8080/"
        },
        "id": "axQPM9tXG3KX",
        "outputId": "d359dd8b-d172-4c02-cb22-571fb7d1ec1d"
      },
      "execution_count": null,
      "outputs": [
        {
          "output_type": "stream",
          "name": "stdout",
          "text": [
            "Enter an integer 4\n",
            "Enter an integer 2\n",
            "Enter an integer 7\n",
            "Enter an integer 0\n",
            "sum of the entered values is: 13\n"
          ]
        }
      ]
    },
    {
      "cell_type": "markdown",
      "source": [
        "**Activity 14** Write a Python code to accept an integer value from user and check that whether the given value is prime number or not"
      ],
      "metadata": {
        "id": "xOYKkUAFIYlL"
      }
    },
    {
      "cell_type": "code",
      "source": [
        "num = int(input(\"Enter an integer: \"))\n",
        "if num > 1:\n",
        " for i in range(2, num):\n",
        "  if num % i == 0:\n",
        "   print(num, \"is not a prime number\")\n",
        "   break\n",
        "  else:\n",
        "   print(num, \"is a prime number\")\n",
        "else:\n",
        " print(num, \"is not a prime number\")"
      ],
      "metadata": {
        "colab": {
          "base_uri": "https://localhost:8080/"
        },
        "id": "_bUwZQqsIffJ",
        "outputId": "d8b9f78a-82d4-4f6b-c66e-0887a8f01757"
      },
      "execution_count": null,
      "outputs": [
        {
          "output_type": "stream",
          "name": "stdout",
          "text": [
            "Enter an integer: 12\n",
            "12 is not a prime number\n"
          ]
        }
      ]
    },
    {
      "cell_type": "markdown",
      "source": [
        "**Activity 15:** Write a Python code to accept marks of a student from 1-100 and display the grade according to the following formula.\n"
      ],
      "metadata": {
        "id": "QvPR3rSQKMD4"
      }
    },
    {
      "cell_type": "code",
      "source": [
        "marks = int(input(\"Enter marks (out of 100): \"))\n",
        "if marks > 100 or marks < 0:\n",
        " print(\"Invalid input! Please enter marks between 0 and 100.\")\n",
        "elif marks >= 90:\n",
        " print(\"Grade: A+\")\n",
        "elif marks >= 80:\n",
        " print(\"Grade: A\")\n",
        "elif marks >= 70:\n",
        " print(\"Grade: B+\")\n",
        "elif marks >= 60:\n",
        " print(\"Grade: B\")\n",
        "elif marks >= 50:\n",
        " print(\"Grade: C+\")\n",
        "elif marks >= 40:\n",
        " print(\"Grade: C\")\n",
        "else:\n",
        " print(\"Grade: F\")"
      ],
      "metadata": {
        "colab": {
          "base_uri": "https://localhost:8080/"
        },
        "id": "4unXxB6IKOYG",
        "outputId": "de250075-ace4-4344-a3c4-2cbce0c4ce86"
      },
      "execution_count": null,
      "outputs": [
        {
          "output_type": "stream",
          "name": "stdout",
          "text": [
            "Enter marks (out of 100): 55\n",
            "Grade: C+\n"
          ]
        }
      ]
    },
    {
      "cell_type": "markdown",
      "source": [
        "**Activity 16:** Write a program that takes a number from user and calculate the factorial of that number"
      ],
      "metadata": {
        "id": "QRU9VcfMKi_5"
      }
    },
    {
      "cell_type": "code",
      "source": [
        "num = int(input(\"Enter a positive integer: \"))\n",
        "if num == 0 or num == 1:\n",
        " factorial = 1\n",
        "else:\n",
        " factorial = 1\n",
        " # multiply all the integers from 1 to num\n",
        " for i in range(2, num+1):\n",
        "  factorial *= i\n",
        "print(\"Factorial of\", num, \"is\", factorial)"
      ],
      "metadata": {
        "colab": {
          "base_uri": "https://localhost:8080/"
        },
        "id": "60Q13nURKw6K",
        "outputId": "660d757d-ab95-4c61-bca3-292ac20d0dfc"
      },
      "execution_count": null,
      "outputs": [
        {
          "output_type": "stream",
          "name": "stdout",
          "text": [
            "Enter a positive integer: 4\n",
            "Factorial of 4 is 24\n"
          ]
        }
      ]
    },
    {
      "cell_type": "code",
      "source": [],
      "metadata": {
        "id": "oR6bNp6CL9gE"
      },
      "execution_count": null,
      "outputs": []
    },
    {
      "cell_type": "markdown",
      "source": [],
      "metadata": {
        "id": "yws5R89vhBXS"
      }
    }
  ]
}